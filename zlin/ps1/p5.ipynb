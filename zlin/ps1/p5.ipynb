{
 "cells": [
  {
   "cell_type": "code",
   "execution_count": 168,
   "metadata": {
    "collapsed": false
   },
   "outputs": [],
   "source": [
    "# import package\n",
    "import numpy as np\n",
    "from collections import OrderedDict\n",
    "from collections import defaultdict\n",
    "from collections import Counter\n",
    "import matplotlib.pyplot as plt\n",
    "%matplotlib inline"
   ]
  },
  {
   "cell_type": "code",
   "execution_count": 169,
   "metadata": {
    "collapsed": true
   },
   "outputs": [],
   "source": [
    "# Load data\n",
    "train_lines = open('./data/train.txt','r').readlines()\n",
    "test_lines = open('./data/test','r').readlines()"
   ]
  },
  {
   "cell_type": "markdown",
   "metadata": {},
   "source": [
    "# (a) Data preprocessing"
   ]
  },
  {
   "cell_type": "code",
   "execution_count": 170,
   "metadata": {
    "collapsed": false
   },
   "outputs": [],
   "source": [
    "# Preprocess data\n",
    "# Tranfer line from raw txt line to default dict containing \n",
    "# id: id number is_spam: 1 represent spam word_count: word count in document\n",
    "def preprocess(lines):\n",
    "    output_list = []\n",
    "    for line in lines:\n",
    "        doc_dict = {}\n",
    "        splitted = line.split()\n",
    "        doc_dict['id'] = splitted[0]\n",
    "        doc_dict['is_spam'] = splitted[1]=='spam'\n",
    "        doc_dict['word_count'] = OrderedDict(zip(splitted[2:][::2], np.array(splitted[3:][::2]).astype(int)))\n",
    "        output_list.append(doc_dict)\n",
    "    return output_list"
   ]
  },
  {
   "cell_type": "code",
   "execution_count": 171,
   "metadata": {
    "collapsed": false
   },
   "outputs": [],
   "source": [
    "# Get training and test documents\n",
    "train_docs = preprocess(train_lines)\n",
    "test_docs = preprocess(test_lines)"
   ]
  },
  {
   "cell_type": "code",
   "execution_count": 172,
   "metadata": {
    "collapsed": false
   },
   "outputs": [],
   "source": [
    "# Filter to get spam and ham in training sample\n",
    "train_spam_docs = list(filter(lambda x: x['is_spam'], train_docs))\n",
    "train_ham_docs = list(filter(lambda x: not x['is_spam'], train_docs))"
   ]
  },
  {
   "cell_type": "markdown",
   "metadata": {},
   "source": [
    "# (b) What is p(spam) in training data"
   ]
  },
  {
   "cell_type": "code",
   "execution_count": 173,
   "metadata": {
    "collapsed": false
   },
   "outputs": [
    {
     "name": "stdout",
     "output_type": "stream",
     "text": [
      "Probability of spam: 0.5737\n"
     ]
    }
   ],
   "source": [
    "p_spam_train = len(train_spam_docs)/len(train_docs)\n",
    "print('Probability of spam: %.4f' % p_spam_train)"
   ]
  },
  {
   "cell_type": "code",
   "execution_count": 174,
   "metadata": {
    "collapsed": false
   },
   "outputs": [
    {
     "name": "stdout",
     "output_type": "stream",
     "text": [
      "Probability of ham: 0.4263\n"
     ]
    }
   ],
   "source": [
    "print('Probability of ham: %.4f' % (1-p_spam_train))"
   ]
  },
  {
   "cell_type": "markdown",
   "metadata": {},
   "source": [
    "# (c) Determine $p(w_i | spam)$"
   ]
  },
  {
   "cell_type": "markdown",
   "metadata": {},
   "source": [
    "Get vocabulary counts that in spam and all training documents"
   ]
  },
  {
   "cell_type": "code",
   "execution_count": 175,
   "metadata": {
    "collapsed": true
   },
   "outputs": [],
   "source": [
    "# Function to get a vocabulary dict with key=word value=count of word in the given corpus\n",
    "def get_vocabulary_count(doc_list):\n",
    "    output_vocabulary_dict = defaultdict(lambda :0)\n",
    "    for doc_dict in doc_list:\n",
    "        for word, word_count in doc_dict['word_count'].items():\n",
    "            output_vocabulary_dict[word]+=word_count\n",
    "    return output_vocabulary_dict"
   ]
  },
  {
   "cell_type": "code",
   "execution_count": 176,
   "metadata": {
    "collapsed": false
   },
   "outputs": [],
   "source": [
    "# Get word count in all trainign documents and spam training documents\n",
    "train_vocab_count = get_vocabulary_count(train_docs)\n",
    "train_spam_vocab_count = get_vocabulary_count(train_spam_docs)\n",
    "train_ham_vocab_count = get_vocabulary_count(train_ham_docs)"
   ]
  },
  {
   "cell_type": "markdown",
   "metadata": {},
   "source": [
    "Apply m-estimate and get $p(wi|spam)$ or $p(wi|ham)$"
   ]
  },
  {
   "cell_type": "code",
   "execution_count": 189,
   "metadata": {
    "collapsed": false
   },
   "outputs": [],
   "source": [
    "# Apply m-estimate and get p(wi|spam) or p(wi|ham)\n",
    "def get_p_wi_spam(w, train_vocab_count, subset_vocab_count, m_multiplier=1):\n",
    "    output_dict = defaultdict()\n",
    "    n = np.sum(list(subset_vocab_count.values()))\n",
    "    vocab_sum = np.sum(list(train_vocab_count.values()))\n",
    "    #vocab_sum = len(train_vocab_count)\n",
    "    p = 1.0/vocab_sum\n",
    "    m = m_multiplier*vocab_sum\n",
    "    for w_i in w:\n",
    "        n_c = subset_vocab_count[w_i]\n",
    "        output_dict[w_i]=(n_c + m*p)/(n+m)\n",
    "    return output_dict"
   ]
  },
  {
   "cell_type": "code",
   "execution_count": 190,
   "metadata": {
    "collapsed": false
   },
   "outputs": [],
   "source": [
    "words = [key for key in train_vocab_count.keys()]\n",
    "p_w_given_spam = get_p_wi_spam(words, train_vocab_count, train_spam_vocab_count)\n",
    "p_w_given_ham = get_p_wi_spam(words, train_vocab_count, train_ham_vocab_count)"
   ]
  },
  {
   "cell_type": "code",
   "execution_count": 191,
   "metadata": {
    "collapsed": false
   },
   "outputs": [
    {
     "name": "stdout",
     "output_type": "stream",
     "text": [
      "The top 5 most likely word in spam are:\n",
      "\n",
      "enron\n",
      "a\n",
      "corp\n",
      "the\n",
      "to\n"
     ]
    }
   ],
   "source": [
    "print('The top 5 most likely word in spam are:\\n\\n%s' % \n",
    "      '\\n'.join([word for word, prob in Counter(p_w_given_spam).most_common(5)]))"
   ]
  },
  {
   "cell_type": "code",
   "execution_count": 192,
   "metadata": {
    "collapsed": false
   },
   "outputs": [
    {
     "name": "stdout",
     "output_type": "stream",
     "text": [
      "The top 5 most likely word in ham are:\n",
      "\n",
      "aaaaaaaaaaaaaaaaaaaaaaaaaaaaaaaaaaaaaaaaaaaaaaaaaaaaaaaaaaaaaaaaaaaaaaaaaaaa\n",
      "enron\n",
      "the\n",
      "to\n",
      "a\n"
     ]
    }
   ],
   "source": [
    "print('The top 5 most likely word in ham are:\\n\\n%s' % \n",
    "      '\\n'.join([word for word, prob in Counter(p_w_given_ham).most_common(5)]))"
   ]
  },
  {
   "cell_type": "markdown",
   "metadata": {},
   "source": [
    "# (d) Classifier and accuracy"
   ]
  },
  {
   "cell_type": "markdown",
   "metadata": {},
   "source": [
    "A classifier that make predicison by comparing the $log(p(w , spam))$ and  $log(p(w , ham))$"
   ]
  },
  {
   "cell_type": "code",
   "execution_count": 193,
   "metadata": {
    "collapsed": false
   },
   "outputs": [],
   "source": [
    "# Code of Naive Bayes Classifier\n",
    "def classify(test_docs, train_docs, m_multiplier = 1):\n",
    "    train_spam_docs = list(filter(lambda x: x['is_spam'], train_docs))\n",
    "    train_ham_docs = list(filter(lambda x: not x['is_spam'], train_docs))\n",
    "    \n",
    "    p_spam_train = len(train_spam_docs)/len(train_docs)\n",
    "    p_ham_train = 1-p_spam_train\n",
    "    \n",
    "    train_vocab_count = get_vocabulary_count(train_docs)\n",
    "    train_spam_vocab_count = get_vocabulary_count(train_spam_docs)\n",
    "    train_ham_vocab_count = get_vocabulary_count(train_ham_docs)\n",
    "    \n",
    "    preds = []\n",
    "    for doc in test_docs:\n",
    "        word_count_dict = doc['word_count']\n",
    "        words = list(word_count_dict.keys())\n",
    "        \n",
    "        p_w_given_spam = get_p_wi_spam(words, train_vocab_count, train_spam_vocab_count, m_multiplier=m_multiplier)\n",
    "        p_w_given_ham = get_p_wi_spam(words, train_vocab_count, train_ham_vocab_count, m_multiplier=m_multiplier)\n",
    "        \n",
    "        log_likelihood_spam = np.log(p_spam_train)\n",
    "        log_likelihood_ham = np.log(p_ham_train)\n",
    "        for word, word_count in word_count_dict.items():\n",
    "            log_likelihood_spam += np.log(p_w_given_spam[word])*word_count\n",
    "            log_likelihood_ham += np.log(p_w_given_ham[word])*word_count\n",
    "\n",
    "        preds.append(log_likelihood_spam>log_likelihood_ham)\n",
    "    return preds"
   ]
  },
  {
   "cell_type": "code",
   "execution_count": 194,
   "metadata": {
    "collapsed": false
   },
   "outputs": [],
   "source": [
    "# predictions\n",
    "preds = classify(test_docs, train_docs,1)"
   ]
  },
  {
   "cell_type": "code",
   "execution_count": 195,
   "metadata": {
    "collapsed": false
   },
   "outputs": [],
   "source": [
    "# Evaluation of predictions results\n",
    "def evaluate_predictions(preds, test_docs):\n",
    "    true_labels = np.array([doc['is_spam'] for doc in test_docs])\n",
    "    return (preds==true_labels).sum()/len(test_docs)"
   ]
  },
  {
   "cell_type": "code",
   "execution_count": 196,
   "metadata": {
    "collapsed": false
   },
   "outputs": [
    {
     "name": "stdout",
     "output_type": "stream",
     "text": [
      "Accuracy: 0.914\n"
     ]
    }
   ],
   "source": [
    "print('Accuracy: %.3f'% evaluate_predictions(preds, test_docs))"
   ]
  },
  {
   "cell_type": "code",
   "execution_count": 197,
   "metadata": {
    "collapsed": true
   },
   "outputs": [],
   "source": [
    "accuracy = []\n",
    "m_multiplier_list = [1,10,100,1000,10000]\n",
    "for m_multiplier in m_multiplier_list:\n",
    "    preds = classify(test_docs, train_docs, m_multiplier)\n",
    "    accuracy.append(evaluate_predictions(preds,test_docs))"
   ]
  },
  {
   "cell_type": "markdown",
   "metadata": {},
   "source": [
    "# (e) Vary m parameter "
   ]
  },
  {
   "cell_type": "markdown",
   "metadata": {},
   "source": [
    "Plot are shown below"
   ]
  },
  {
   "cell_type": "code",
   "execution_count": 198,
   "metadata": {
    "collapsed": false
   },
   "outputs": [
    {
     "data": {
      "text/plain": [
       "<matplotlib.text.Text at 0x10edb7dd8>"
      ]
     },
     "execution_count": 198,
     "metadata": {},
     "output_type": "execute_result"
    },
    {
     "data": {
      "image/png": "[encoded data removed]",
      "text/plain": [
       "<matplotlib.figure.Figure at 0x10ed9b080>"
      ]
     },
     "metadata": {},
     "output_type": "display_data"
    }
   ],
   "source": [
    "plt.plot(np.log10(m_multiplier_list), accuracy)\n",
    "plt.title('Accuracy vs log10(m)')"
   ]
  },
  {
   "cell_type": "markdown",
   "metadata": {},
   "source": [
    "## What does m assume?"
   ]
  },
  {
   "cell_type": "markdown",
   "metadata": {},
   "source": [
    "$m$ represents the size of the imaginary training data in which word distribution follow practitioner defined priors $p(w_i | spam)$. The larger the $m$ is, the more weight you put in the prior. More 'counts' are assigned to unobserved word relative to observed word.\n",
    "\n",
    "A small $m$ assume that training samples are very good representations of global samples. \n",
    "\n",
    "A large $m$ assume that training samples are less representative and we believe the prior distribution more.\n",
    "\n",
    "In our case the a large $m$ harms test accuracy."
   ]
  },
  {
   "cell_type": "markdown",
   "metadata": {},
   "source": [
    "# (f) What to do if I am a spammer?"
   ]
  },
  {
   "cell_type": "markdown",
   "metadata": {},
   "source": [
    "If the spam detector is a naive bayes classifer. We should avoid using spam-common words. And we should make our spam email long and make the percentage of common and ham-common words higher. In a word, we should write a spam that contains spam message, while seems like ham in bag of words."
   ]
  }
 ],
 "metadata": {
  "anaconda-cloud": {},
  "kernelspec": {
   "display_name": "Python [conda env:coral]",
   "language": "python",
   "name": "conda-env-coral-py"
  },
  "language_info": {
   "codemirror_mode": {
    "name": "ipython",
    "version": 3
   },
   "file_extension": ".py",
   "mimetype": "text/x-python",
   "name": "python",
   "nbconvert_exporter": "python",
   "pygments_lexer": "ipython3",
   "version": "3.5.3"
  }
 },
 "nbformat": 4,
 "nbformat_minor": 1
}
