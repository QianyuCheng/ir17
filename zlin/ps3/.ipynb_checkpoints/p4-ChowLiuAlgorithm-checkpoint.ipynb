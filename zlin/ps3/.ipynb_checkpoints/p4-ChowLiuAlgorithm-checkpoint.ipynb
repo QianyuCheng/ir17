{
 "cells": [
  {
   "cell_type": "code",
   "execution_count": 151,
   "metadata": {
    "collapsed": true
   },
   "outputs": [],
   "source": [
    "import pandas as pd\n",
    "import numpy as np\n",
    "from itertools import combinations, product\n",
    "from progressbar import ProgressBar"
   ]
  },
  {
   "cell_type": "code",
   "execution_count": 148,
   "metadata": {},
   "outputs": [],
   "source": [
    "# load data\n",
    "occurence = np.loadtxt('./data/chowliu-input.txt')\n",
    "names = np.loadtxt('./data/names.txt',dtype=str)"
   ]
  },
  {
   "cell_type": "code",
   "execution_count": 152,
   "metadata": {},
   "outputs": [],
   "source": [
    "def calculate_empirical_coocurence_probability(occurence):\n",
    "    n_records, n_classes = occurence.shape\n",
    "    matrix_11 = np.zeros((n_classes, n_classes))\n",
    "    matrix_00 = np.zeros((n_classes, n_classes))\n",
    "    matrix_10 = np.zeros((n_classes, n_classes))\n",
    "    matrix_01 = np.zeros((n_classes, n_classes))\n",
    "    bar = ProgressBar()\n",
    "    for row in bar(occurence):\n",
    "        idx_1 = np.where(row==1)[0]\n",
    "        idx_0 = np.where(row==0)[0]\n",
    "        idx_11 = combinations(idx_1, 2)\n",
    "        idx_00 = combinations(idx_0, 2)\n",
    "        idx_10 = product(idx_1, idx_0)\n",
    "        idx_01 = product(idx_0, idx_1)\n",
    "        for idx in idx_11:\n",
    "            matrix_11[idx]+=1\n",
    "        for idx in idx_00:\n",
    "            matrix_00[idx]+=1\n",
    "        for idx in idx_10:\n",
    "            matrix_10[idx]+=1\n",
    "        for idx in idx_01:\n",
    "            matrix_01[idx]+=1\n",
    "            \n",
    "    return matrix_11/n_records, matrix_00/n_records, matrix_10/n_records, matrix_01/n_records"
   ]
  },
  {
   "cell_type": "code",
   "execution_count": 168,
   "metadata": {},
   "outputs": [
    {
     "name": "stderr",
     "output_type": "stream",
     "text": [
      "100% (4367 of 4367) |#####################| Elapsed Time: 0:00:15 Time: 0:00:15\n"
     ]
    }
   ],
   "source": [
    "prob_11, prob_00, prob_10, prob_01 = calculate_empirical_coocurence_probability(occurence)"
   ]
  },
  {
   "cell_type": "code",
   "execution_count": 154,
   "metadata": {
    "collapsed": true
   },
   "outputs": [],
   "source": [
    "def calculate_empirical_marginal_probability(occurence):\n",
    "    return occurence.mean(0), 1-occurence.mean(0)"
   ]
  },
  {
   "cell_type": "code",
   "execution_count": 155,
   "metadata": {},
   "outputs": [],
   "source": [
    "prob1, prob_0 = calculate_empirical_marginal_probability(occurence)"
   ]
  },
  {
   "cell_type": "code",
   "execution_count": 179,
   "metadata": {
    "collapsed": true
   },
   "outputs": [],
   "source": [
    "def calculate_mutial_information(occurence):\n",
    "    n_records, n_classes = occurence.shape\n",
    "    mutial_information_matrix = np.zeros((n_classes, n_classes))\n",
    "    prob_11, prob_00, prob_10, prob_01 = calculate_empirical_coocurence_probability(occurence)\n",
    "    prob_1, prob_0 = calculate_empirical_marginal_probability(occurence)\n",
    "    all_idx = combinations(np.arange(n_classes), 2)\n",
    "    for i,j in all_idx:\n",
    "        mutial_information_matrix[i,j]+=prob_11[i,j]*np.log(prob_11[i,j]/(prob_1[i]*prob_1[j]))\n",
    "        mutial_information_matrix[i,j]+=prob_00[i,j]*np.log(prob_00[i,j]/(prob_0[i]*prob_0[j]))\n",
    "        mutial_information_matrix[i,j]+=prob_10[i,j]*np.log(prob_10[i,j]/(prob_1[i]*prob_0[j]))\n",
    "        mutial_information_matrix[i,j]+=prob_01[i,j]*np.log(prob_01[i,j]/(prob_0[i]*prob_1[j]))\n",
    "    return mutial_information_matrix"
   ]
  },
  {
   "cell_type": "code",
   "execution_count": 180,
   "metadata": {},
   "outputs": [
    {
     "name": "stderr",
     "output_type": "stream",
     "text": [
      "100% (4367 of 4367) |#####################| Elapsed Time: 0:00:15 Time: 0:00:15\n",
      "/Users/zhuorulin/anaconda3/lib/python3.6/site-packages/ipykernel_launcher.py:8: RuntimeWarning: divide by zero encountered in log\n",
      "  \n",
      "/Users/zhuorulin/anaconda3/lib/python3.6/site-packages/ipykernel_launcher.py:8: RuntimeWarning: invalid value encountered in double_scalars\n",
      "  \n",
      "/Users/zhuorulin/anaconda3/lib/python3.6/site-packages/ipykernel_launcher.py:10: RuntimeWarning: divide by zero encountered in log\n",
      "  # Remove the CWD from sys.path while we load stuff.\n",
      "/Users/zhuorulin/anaconda3/lib/python3.6/site-packages/ipykernel_launcher.py:10: RuntimeWarning: invalid value encountered in double_scalars\n",
      "  # Remove the CWD from sys.path while we load stuff.\n"
     ]
    }
   ],
   "source": [
    "mutial_information_matrix = calculate_mutial_information(occurence)"
   ]
  },
  {
   "cell_type": "code",
   "execution_count": null,
   "metadata": {
    "collapsed": true
   },
   "outputs": [],
   "source": []
  }
 ],
 "metadata": {
  "kernelspec": {
   "display_name": "Python 3",
   "language": "python",
   "name": "python3"
  },
  "language_info": {
   "codemirror_mode": {
    "name": "ipython",
    "version": 3
   },
   "file_extension": ".py",
   "mimetype": "text/x-python",
   "name": "python",
   "nbconvert_exporter": "python",
   "pygments_lexer": "ipython3",
   "version": "3.6.2"
  }
 },
 "nbformat": 4,
 "nbformat_minor": 2
}
