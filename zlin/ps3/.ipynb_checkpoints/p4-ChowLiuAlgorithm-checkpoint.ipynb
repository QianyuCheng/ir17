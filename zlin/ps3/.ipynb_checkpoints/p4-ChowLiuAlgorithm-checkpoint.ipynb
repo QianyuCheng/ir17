{
 "cells": [
  {
   "cell_type": "code",
   "execution_count": 123,
   "metadata": {
    "collapsed": true
   },
   "outputs": [],
   "source": [
    "import pandas as pd\n",
    "import numpy as np\n",
    "from itertools import combinations, product"
   ]
  },
  {
   "cell_type": "code",
   "execution_count": 40,
   "metadata": {},
   "outputs": [],
   "source": [
    "# load data\n",
    "occurence = np.loadtxt('./data/chowliu-input.txt')\n",
    "names = np.loadtxt('./data/names.txt',dtype=str)"
   ]
  },
  {
   "cell_type": "code",
   "execution_count": 91,
   "metadata": {},
   "outputs": [],
   "source": [
    "def calculate_empirical_coocurence_probability(occurence):\n",
    "    coocurence_matrix = np.zeros((occurence.shape[1], occurence.shape[1]))\n",
    "    for row in occurence:\n",
    "        occur_idx = np.where(row==1)[0]\n",
    "        not_occur_idx = np.where(row==0)[0]\n",
    "        both_occur_idx = list(combinations(occur_idx, 2))\n",
    "        both_not_occur_idx = list(combinations(not_occur_idx, 2))\n",
    "        occur_not_occure_idx = list(product(occur_idx, not_occur_idx))\n",
    "        not_occur_occur_idx = list(product(not_occur_idx, occur_idx))\n",
    "        if len(coocur_idx)>0:\n",
    "            for idx in coocur_idx:\n",
    "                coocurence_matrix[idx]+=1\n",
    "    return coocurence_matrix/coocurence_matrix.sum()"
   ]
  },
  {
   "cell_type": "code",
   "execution_count": 92,
   "metadata": {},
   "outputs": [],
   "source": [
    "cooc_prob = calculate_empirical_coocurence_probability(occurence)"
   ]
  },
  {
   "cell_type": "code",
   "execution_count": 103,
   "metadata": {
    "collapsed": true
   },
   "outputs": [],
   "source": [
    "def calculate_empirical_marginal_probability(occurence):\n",
    "    return occurence.mean(0)"
   ]
  },
  {
   "cell_type": "code",
   "execution_count": 108,
   "metadata": {},
   "outputs": [],
   "source": [
    "marg_prob_1 = calculate_empirical_marginal_probability(occurence)\n",
    "marg_prob_0 = 1-marg_prob_1"
   ]
  },
  {
   "cell_type": "code",
   "execution_count": 124,
   "metadata": {},
   "outputs": [
    {
     "data": {
      "text/plain": [
       "[(0, 3), (0, 4), (0, 5), (1, 3), (1, 4), (1, 5), (2, 3), (2, 4), (2, 5)]"
      ]
     },
     "execution_count": 124,
     "metadata": {},
     "output_type": "execute_result"
    }
   ],
   "source": [
    "a=[0,1,2]\n",
    "b=[3,4,5]\n",
    "list(product(a,b))"
   ]
  },
  {
   "cell_type": "code",
   "execution_count": null,
   "metadata": {
    "collapsed": true
   },
   "outputs": [],
   "source": []
  }
 ],
 "metadata": {
  "kernelspec": {
   "display_name": "Python 3",
   "language": "python",
   "name": "python3"
  },
  "language_info": {
   "codemirror_mode": {
    "name": "ipython",
    "version": 3
   },
   "file_extension": ".py",
   "mimetype": "text/x-python",
   "name": "python",
   "nbconvert_exporter": "python",
   "pygments_lexer": "ipython3",
   "version": "3.6.2"
  }
 },
 "nbformat": 4,
 "nbformat_minor": 2
}
