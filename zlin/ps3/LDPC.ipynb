{
 "cells": [
  {
   "cell_type": "code",
   "execution_count": 1,
   "metadata": {
    "collapsed": true
   },
   "outputs": [],
   "source": [
    "import fglib\n",
    "from fglib import graphs,nodes,rv, inference\n",
    "import pyldpc\n",
    "import numpy as np\n",
    "from random import uniform\n",
    "import progressbar\n",
    "from collections import OrderedDict"
   ]
  },
  {
   "cell_type": "markdown",
   "metadata": {},
   "source": [
    "# a) Construct factor graph based on some H"
   ]
  },
  {
   "cell_type": "code",
   "execution_count": 2,
   "metadata": {},
   "outputs": [
    {
     "name": "stdout",
     "output_type": "stream",
     "text": [
      "Regular parity-check matrix H(256,2,4):\n",
      "\n",
      " [[1 1 1 ..., 0 0 0]\n",
      " [0 0 0 ..., 0 0 0]\n",
      " [0 0 0 ..., 0 0 0]\n",
      " ..., \n",
      " [0 0 0 ..., 0 0 0]\n",
      " [0 0 0 ..., 0 0 0]\n",
      " [0 0 0 ..., 0 0 0]]\n"
     ]
    }
   ],
   "source": [
    "# Generate H\n",
    "# Reference: https://github.com/hichamjanati/pyldpc-tutos/blob/master/Tutorials/pyLDPC-Tutorial-Basics.ipynb\n",
    "\n",
    "N = 128  # Number of bits\n",
    "dim_codeword = 2*N\n",
    "d_v = 2 # Number of ones per column, must be lower than d_c (because H must have more rows than columns)\n",
    "d_c = 4 # Number of ones per row, must divide n (because if H has m rows: m*d_c = n*d_v (compute number of ones in H))\n",
    "\n",
    "H = pyldpc.RegularH(dim_codeword,d_v,d_c)\n",
    "print(\"Regular parity-check matrix H({},{},{}):\\n\\n\".format(dim_codeword,d_v,d_c),H)"
   ]
  },
  {
   "cell_type": "code",
   "execution_count": 3,
   "metadata": {
    "collapsed": true
   },
   "outputs": [],
   "source": [
    "def construct_check_factor(check_fnode):\n",
    "    nodes_in_check = list(check_fnode.neighbors())\n",
    "    n_nodes_in_check = len(nodes_in_check)\n",
    "    pmf_shape = [2]*n_nodes_in_check\n",
    "    pmf_out = np.zeros(pmf_shape)\n",
    "    all_idx = np.where(pmf_out==0)\n",
    "    pmf_values = 1-np.stack(all_idx).sum(0)%2\n",
    "    pmf_out[all_idx] = pmf_values\n",
    "    return rv.Discrete(pmf_out, *nodes_in_check)\n",
    "\n",
    "def construct_prior_factor(prior_fnode, observed_r, error_rate):\n",
    "    if observed_r==0:\n",
    "        pmf = np.array([1-error_rate, error_rate])\n",
    "    else:\n",
    "        pmf = np.array([error_rate, 1-error_rate])\n",
    "    return  rv.Discrete(pmf, prior_fnode)"
   ]
  },
  {
   "cell_type": "code",
   "execution_count": 4,
   "metadata": {
    "collapsed": true
   },
   "outputs": [],
   "source": [
    "# Construct factor graph\n",
    "def construct_graph_with_H_and_observations(H, observations, error_rate=0.05):\n",
    "    n_checks, n_bits = H.shape\n",
    "    # Construct empty factor graph\n",
    "    factor_graph = graphs.FactorGraph()\n",
    "    # Construct bits V nodes\n",
    "    bits_vnodes = [nodes.VNode('x%d'%n) for n in range(n_bits)]\n",
    "    # Construct checks F nodes\n",
    "    checks_fnodes = [nodes.FNode('h%d'%m) for m in range(n_checks)]\n",
    "    # Construct priors F nodes\n",
    "    priors_fnodes = [nodes.FNode('f%d'%m) for m in range(n_bits)]\n",
    "    \n",
    "    # Register Nodes to the graph\n",
    "    factor_graph.set_nodes(priors_fnodes)\n",
    "    factor_graph.set_nodes(bits_vnodes)\n",
    "    factor_graph.set_nodes(checks_fnodes)\n",
    "    \n",
    "    # Construct Edges between priors and bits\n",
    "    factor_graph.set_edges(zip(priors_fnodes, bits_vnodes))\n",
    "    # Constrct Edges between bits and checks\n",
    "    check_idx, bit_idx = np.where(H==1)\n",
    "    for m, n in zip(check_idx, bit_idx):\n",
    "        factor_graph.set_edge(checks_fnodes[m], bits_vnodes[n])\n",
    "    \n",
    "    # Initialize check factors\n",
    "    for check_fnode in checks_fnodes:\n",
    "        check_fnode.factor = construct_check_factor(check_fnode)\n",
    "    # Initialize prior factors\n",
    "    for prior_fnode, observed_r in zip(priors_fnodes, observations):\n",
    "        prior_fnode.factor = construct_prior_factor(prior_fnode,observed_r,error_rate)\n",
    "    # Initialize message qmn\n",
    "    for prior_fnode,bit_vnode in zip(priors_fnodes, bits_vnodes):\n",
    "        checks_for_this_node = bit_vnode.neighbors(prior_fnode)\n",
    "        message = prior_fnode.factor.pmf\n",
    "        message = rv.Discrete(message, bit_vnode)\n",
    "        for check in checks_for_this_node:\n",
    "            edge = factor_graph.get_edge_data(bit_vnode, check)['object']\n",
    "            edge.set_message(bit_vnode, check, message)\n",
    "    return factor_graph"
   ]
  },
  {
   "cell_type": "code",
   "execution_count": 12,
   "metadata": {
    "collapsed": true
   },
   "outputs": [],
   "source": [
    "# Update belief given a edge visiting schedule\n",
    "def schedule_propagation(schedule, graph):\n",
    "    '''\n",
    "    schedule: list of edges (in tuple form)parralel_update\n",
    "    '''\n",
    "    for node_origin, node_destination in schedule:\n",
    "        # Get fglib edge object\n",
    "        edge = graph.get_edge_data(node_origin, node_destination)['object']\n",
    "        # get message using sum-product algorithm\n",
    "        #print('%s --> %s'%(node_origin, node_destination))\n",
    "        message = node_origin.spa(node_destination).normalize()\n",
    "        # set message\n",
    "        edge.set_message(node_origin,node_destination,message)\n",
    "    return \n",
    "\n",
    "def get_beliefs(fg, n_iteration=10, parallel_update=True, saving_iterations=[]):\n",
    "    # If acyclic use depth first search to generate a efficient schedule\n",
    "    if not parallel_update:\n",
    "        root_node = list(fg.get_vnodes())[0]\n",
    "        root2leaf = list(nx.depth_first_search.dfs_edges(fg, root_node))\n",
    "        leaf2root = [(v,u) for u,v in reversed(root2leaf)]\n",
    "        schedule_propagation(leaf2root, fg)\n",
    "        schedule_propagation(root2leaf, fg)\n",
    "        \n",
    "    # Otherwise, use iterative updating (Loopy propagation)\n",
    "    else:\n",
    "        fnodes = fg.get_fnodes()\n",
    "        vnodes = fg.get_vnodes()\n",
    "        nodes_sequence = fnodes + vnodes\n",
    "        schedule = [(node, neighbor) for node in nodes_sequence for neighbor in node.neighbors()]\n",
    "        bar = progressbar.ProgressBar()\n",
    "        #print('Iterating')\n",
    "        output_dict = OrderedDict([(str(vnode), []) for vnode in fg.get_vnodes()])\n",
    "        for i in bar(range(n_iteration)):\n",
    "            if i in saving_iterations:\n",
    "                for vnode in vnodes:\n",
    "                    output_dict[str(vnode)].append(vnode.belief().pmf)\n",
    "            # Propagate\n",
    "            schedule_propagation(schedule, fg)\n",
    "            \n",
    "    # Final configuration saving\n",
    "    for vnode in vnodes:\n",
    "                    output_dict[str(vnode)].append(vnode.belief().pmf)\n",
    "    return output_dict"
   ]
  },
  {
   "cell_type": "markdown",
   "metadata": {},
   "source": [
    "# b) Decoding Test on all zero codeword"
   ]
  },
  {
   "cell_type": "code",
   "execution_count": 13,
   "metadata": {
    "collapsed": true
   },
   "outputs": [],
   "source": [
    "# Original message: \n",
    "#message= pyldpc.imagesformat.int2bitarray(19931125,128)\n",
    "message = np.zeros(256, dtype=int)"
   ]
  },
  {
   "cell_type": "code",
   "execution_count": 14,
   "metadata": {
    "collapsed": true
   },
   "outputs": [],
   "source": [
    "# Define binary symmetric channel\n",
    "def binary_symmetric_channel(message, error_rate):\n",
    "    error_bits_idx = np.where(np.random.choice([0,1], p=(1-error_rate,error_rate),size=message.shape)==1)[0] \n",
    "    corrupted = message\n",
    "    corrupted[error_bits_idx] = 1-corrupted[error_bits_idx]\n",
    "    return corrupted"
   ]
  },
  {
   "cell_type": "code",
   "execution_count": 15,
   "metadata": {
    "collapsed": true
   },
   "outputs": [],
   "source": [
    "received = binary_symmetric_channel(message, 0.05)"
   ]
  },
  {
   "cell_type": "code",
   "execution_count": 19,
   "metadata": {},
   "outputs": [
    {
     "name": "stderr",
     "output_type": "stream",
     "text": [
      "100% (50 of 50) |#########################| Elapsed Time: 0:00:03 Time: 0:00:03\n"
     ]
    }
   ],
   "source": [
    "fg = construct_graph_with_H_and_observations(H, received)\n",
    "\n",
    "node_dict = dict([(str(node), node) for node in fg.nodes()])\n",
    "\n",
    "h0 = node_dict['h0']\n",
    "x0 = node_dict['x0']\n",
    "x1 = node_dict['x1']\n",
    "f1 = node_dict['f1']\n",
    "f0 = node_dict['f0']\n",
    "\n",
    "edge_x1h0 = fg.get_edge_data(x1,h0)['object']\n",
    "\n",
    "\n",
    "beliefs = get_beliefs(fg,n_iteration=50, saving_iterations=[1,5,10,20])"
   ]
  },
  {
   "cell_type": "code",
   "execution_count": 34,
   "metadata": {
    "collapsed": true
   },
   "outputs": [],
   "source": [
    "def decode_based_on_beliefs(beliefs):\n",
    "    results_for_each_node = np.array([[belief.argmax() for belief in node_beliefs] \n",
    "                                      for node_beliefs in beliefs.values()])\n",
    "    return results_for_each_node.T"
   ]
  },
  {
   "cell_type": "code",
   "execution_count": 36,
   "metadata": {
    "collapsed": true
   },
   "outputs": [],
   "source": [
    "decoded_codeword = decode_based_on_beliefs(beliefs)"
   ]
  },
  {
   "cell_type": "markdown",
   "metadata": {},
   "source": [
    "# Part 3 Image example"
   ]
  },
  {
   "cell_type": "code",
   "execution_count": 48,
   "metadata": {
    "collapsed": true
   },
   "outputs": [],
   "source": [
    "# Load real size images\n",
    "from scipy.misc import imshow, imresize,imread\n",
    "import matplotlib\n",
    "import matplotlib.pyplot as plt\n",
    "%matplotlib inline"
   ]
  },
  {
   "cell_type": "code",
   "execution_count": 49,
   "metadata": {
    "collapsed": true
   },
   "outputs": [],
   "source": [
    "# Load and compress image\n",
    "nyu_logo_realsize_color = imread('./photo.jpg')\n",
    "nyu_logo_compressed_color = imresize(nyu_logo_realsize_color, (40,40))"
   ]
  },
  {
   "cell_type": "code",
   "execution_count": 50,
   "metadata": {},
   "outputs": [
    {
     "data": {
      "text/plain": [
       "(40, 40, 3)"
      ]
     },
     "execution_count": 50,
     "metadata": {},
     "output_type": "execute_result"
    }
   ],
   "source": [
    "nyu_logo_compressed_color.shape"
   ]
  },
  {
   "cell_type": "code",
   "execution_count": 51,
   "metadata": {
    "collapsed": true
   },
   "outputs": [],
   "source": [
    "def to_binary(img, threshold=127):\n",
    "    binary = img.mean(2)>threshold\n",
    "    return binary.astype(int)"
   ]
  },
  {
   "cell_type": "code",
   "execution_count": 95,
   "metadata": {
    "collapsed": true
   },
   "outputs": [],
   "source": [
    "# Change to binary bits\n",
    "nyu_logo_binary_compressed = to_binary(nyu_logo_compressed_color,180)"
   ]
  },
  {
   "cell_type": "code",
   "execution_count": 53,
   "metadata": {
    "collapsed": true
   },
   "outputs": [],
   "source": [
    "# Construct 1600-bit message\n",
    "nyu_logo_1600bit_message = nyu_logo_binary_compressed.reshape(-1)"
   ]
  },
  {
   "cell_type": "code",
   "execution_count": 54,
   "metadata": {
    "collapsed": true
   },
   "outputs": [],
   "source": [
    "# Encoding\n",
    "n = 1600*2\n",
    "d_v = 4\n",
    "d_c = 8\n",
    "H = pyldpc.RegularH(n, d_v, d_c)"
   ]
  },
  {
   "cell_type": "code",
   "execution_count": 55,
   "metadata": {},
   "outputs": [
    {
     "data": {
      "text/plain": [
       "(1600, 3200)"
      ]
     },
     "execution_count": 55,
     "metadata": {},
     "output_type": "execute_result"
    }
   ],
   "source": [
    "H.shape"
   ]
  },
  {
   "cell_type": "code",
   "execution_count": 56,
   "metadata": {
    "collapsed": true
   },
   "outputs": [],
   "source": [
    "new_H, sys_tG = pyldpc.CodingMatrix_systematic(H, use_sparse=True)"
   ]
  },
  {
   "cell_type": "code",
   "execution_count": 105,
   "metadata": {
    "collapsed": true
   },
   "outputs": [],
   "source": [
    "def generate_codeword(message, tG, error_rate):\n",
    "    diff_dim = tG.shape[1]-message.shape[0]\n",
    "    # Extend the original message to match generator\n",
    "    message_extended = np.array(nyu_logo_1600bit_message.tolist()+[0]*diff_dim)\n",
    "    codeword = binary_symmetric_channel(tG.dot(message_extended)%2, error_rate=error_rate)\n",
    "    return codeword"
   ]
  },
  {
   "cell_type": "code",
   "execution_count": 58,
   "metadata": {
    "collapsed": true
   },
   "outputs": [],
   "source": [
    "# Generate codeword\n",
    "nyu_logo_codeword = generate_codeword(nyu_logo_1600bit_message, sys_tG, error_rate=0.06)\n",
    "# Decode\n",
    "# Construct graph\n",
    "fg_nyu_logo_codeword = construct_graph_with_H_and_observations(new_H, observations=nyu_logo_codeword, error_rate=0.06)\n",
    "beliefs = get_beliefs(fg_nyu_logo_codeword, n_iteration=30, saving_iterations=[1,2,3,5,10,20])\n",
    "decoded_prediction = decode_based_on_beliefs(beliefs)"
   ]
  },
  {
   "cell_type": "code",
   "execution_count": 101,
   "metadata": {},
   "outputs": [
    {
     "data": {
      "image/png": "[encoded data removed]",
      "text/plain": [
       "<matplotlib.figure.Figure at 0x7fecf302e0b8>"
      ]
     },
     "metadata": {},
     "output_type": "display_data"
    }
   ],
   "source": [
    "# Result plot\n",
    "fig, axs = plt.subplots(3,3, figsize=(9, 9), facecolor='w', edgecolor='k')\n",
    "axs = axs.reshape(-1)\n",
    "iterations = [1,2,3,5,10,20,30]\n",
    "ax0 = axs[0]\n",
    "axs = axs[1:]\n",
    "ax0.imshow(nyu_logo_codeword[:1600].reshape(40,40), cmap='Purples')\n",
    "ax0.set_title('Received code', fontsize=20)\n",
    "ax0.set_axis_off()\n",
    "for i,prediction in enumerate(decoded_prediction):\n",
    "    img_arr = prediction[:1600].reshape(40,40)\n",
    "    axs[i].imshow(img_arr, cmap='Purples')\n",
    "    axs[i].set_title('%d iterations'%iterations[i], fontsize=20)\n",
    "    axs[i].set_axis_off()\n",
    "axs[-1].imshow(nyu_logo_binary_compressed, cmap='Purples')\n",
    "axs[-1].set_title('Original image', fontsize=20)\n",
    "axs[-1].set_axis_off()"
   ]
  },
  {
   "cell_type": "markdown",
   "metadata": {},
   "source": [
    "# Part f"
   ]
  },
  {
   "cell_type": "code",
   "execution_count": 108,
   "metadata": {},
   "outputs": [
    {
     "name": "stderr",
     "output_type": "stream",
     "text": [
      "100% (30 of 30) |#########################| Elapsed Time: 0:01:31 Time: 0:01:31\n"
     ]
    }
   ],
   "source": [
    "# Generate codeword\n",
    "nyu_logo_codeword = generate_codeword(nyu_logo_1600bit_message, sys_tG, error_rate=0.10)\n",
    "# Decode\n",
    "# Construct graph\n",
    "fg_nyu_logo_codeword = construct_graph_with_H_and_observations(new_H, observations=nyu_logo_codeword, error_rate=0.10)\n",
    "beliefs = get_beliefs(fg_nyu_logo_codeword, n_iteration=30, saving_iterations=[1,2,3,5,10,20])\n",
    "decoded_prediction = decode_based_on_beliefs(beliefs)"
   ]
  },
  {
   "cell_type": "code",
   "execution_count": 109,
   "metadata": {},
   "outputs": [
    {
     "data": {
      "image/png": "[encoded data removed]",
      "text/plain": [
       "<matplotlib.figure.Figure at 0x7fecf0084518>"
      ]
     },
     "metadata": {},
     "output_type": "display_data"
    }
   ],
   "source": [
    "# Result plot\n",
    "fig, axs = plt.subplots(3,3, figsize=(9, 9), facecolor='w', edgecolor='k')\n",
    "axs = axs.reshape(-1)\n",
    "iterations = [1,2,3,5,10,20,30]\n",
    "ax0 = axs[0]\n",
    "axs = axs[1:]\n",
    "ax0.imshow(nyu_logo_codeword[:1600].reshape(40,40), cmap='Purples')\n",
    "ax0.set_title('Received code', fontsize=20)\n",
    "ax0.set_axis_off()\n",
    "for i,prediction in enumerate(decoded_prediction):\n",
    "    img_arr = prediction[:1600].reshape(40,40)\n",
    "    axs[i].imshow(img_arr, cmap='Purples')\n",
    "    axs[i].set_title('%d iterations'%iterations[i], fontsize=20)\n",
    "    axs[i].set_axis_off()\n",
    "axs[-1].imshow(nyu_logo_binary_compressed, cmap='Purples')\n",
    "axs[-1].set_title('Original image', fontsize=20)\n",
    "axs[-1].set_axis_off()"
   ]
  }
 ],
 "metadata": {
  "kernelspec": {
   "display_name": "Python 3",
   "language": "python",
   "name": "python3"
  },
  "language_info": {
   "codemirror_mode": {
    "name": "ipython",
    "version": 3
   },
   "file_extension": ".py",
   "mimetype": "text/x-python",
   "name": "python",
   "nbconvert_exporter": "python",
   "pygments_lexer": "ipython3",
   "version": "3.6.1"
  }
 },
 "nbformat": 4,
 "nbformat_minor": 2
}
