{
 "cells": [
  {
   "cell_type": "code",
   "execution_count": 1,
   "metadata": {},
   "outputs": [],
   "source": [
    "import fglib\n",
    "from fglib import graphs,nodes,rv, inference\n",
    "import pyldpc\n",
    "import numpy as np\n",
    "from random import uniform"
   ]
  },
  {
   "cell_type": "markdown",
   "metadata": {},
   "source": [
    "# a) Construct factor graph based on some H"
   ]
  },
  {
   "cell_type": "code",
   "execution_count": 2,
   "metadata": {},
   "outputs": [
    {
     "name": "stdout",
     "output_type": "stream",
     "text": [
      "Regular parity-check matrix H(256,1,2):\n",
      "\n",
      " [[1 1 0 ..., 0 0 0]\n",
      " [0 0 1 ..., 0 0 0]\n",
      " [0 0 0 ..., 0 0 0]\n",
      " ..., \n",
      " [0 0 0 ..., 0 0 0]\n",
      " [0 0 0 ..., 1 0 0]\n",
      " [0 0 0 ..., 0 1 1]]\n"
     ]
    }
   ],
   "source": [
    "# Generate H\n",
    "# Reference: https://github.com/hichamjanati/pyldpc-tutos/blob/master/Tutorials/pyLDPC-Tutorial-Basics.ipynb\n",
    "\n",
    "N = 128  # Number of bits\n",
    "dim_codeword = 2*N\n",
    "d_v = 1 # Number of ones per column, must be lower than d_c (because H must have more rows than columns)\n",
    "d_c = 2 # Number of ones per row, must divide n (because if H has m rows: m*d_c = n*d_v (compute number of ones in H))\n",
    "\n",
    "H = pyldpc.RegularH(dim_codeword,d_v,d_c)\n",
    "print(\"Regular parity-check matrix H({},{},{}):\\n\\n\".format(dim_codeword,d_v,d_c),H)"
   ]
  },
  {
   "cell_type": "code",
   "execution_count": 30,
   "metadata": {
    "collapsed": true
   },
   "outputs": [],
   "source": [
    "def construct_check_factor(check_fnode):\n",
    "    nodes_in_check = list(check_fnode.neighbors())\n",
    "    n_nodes_in_check = len(nodes_in_check)\n",
    "    pmf_shape = [2]*n_nodes_in_check\n",
    "    pmf_out = np.zeros(pmf_shape)\n",
    "    all_idx = np.where(pmf_out==0)\n",
    "    pmf_values = 1-np.stack(all_idx).sum(0)%2\n",
    "    pmf_out[all_idx] = pmf_values\n",
    "    return rv.Discrete(pmf_out, *nodes_in_check)"
   ]
  },
  {
   "cell_type": "code",
   "execution_count": 31,
   "metadata": {},
   "outputs": [],
   "source": [
    "def construct_prior_factor(prior_fnode, observed_r, error_rate):\n",
    "    if observed_r==0:\n",
    "        pmf = np.array([1-error_rate, error_rate])\n",
    "    else:\n",
    "        pmf = np.array([error_rate, 1-error_rate])\n",
    "    return  rv.Discrete(pmf, prior_fnode)"
   ]
  },
  {
   "cell_type": "code",
   "execution_count": 32,
   "metadata": {
    "collapsed": true
   },
   "outputs": [],
   "source": [
    "# Construct factor graph\n",
    "def construct_graph_with_H_and_observations(H, observations, error_rate=0.05):\n",
    "    n_checks, n_bits = H.shape\n",
    "    # Construct empty factor graph\n",
    "    factor_graph = graphs.FactorGraph()\n",
    "    # Construct bits V nodes\n",
    "    bits_vnodes = [nodes.VNode('x%d'%n) for n in range(n_bits)]\n",
    "    # Construct checks F nodes\n",
    "    checks_fnodes = [nodes.FNode('h%d'%m) for m in range(n_checks)]\n",
    "    # Construct priors F nodes\n",
    "    priors_fnodes = [nodes.FNode('f%d'%m) for m in range(n_bits)]\n",
    "    \n",
    "    # Register Nodes to the graph\n",
    "    factor_graph.set_nodes(bits_vnodes)\n",
    "    factor_graph.set_nodes(checks_fnodes)\n",
    "    factor_graph.set_nodes(priors_fnodes)\n",
    "    \n",
    "    # Construct Edges between priors and bits\n",
    "    factor_graph.set_edges(zip(priors_fnodes, bits_vnodes))\n",
    "    # Constrct Edges between bits and checks\n",
    "    check_idx, bit_idx = np.where(H==1)\n",
    "    for m, n in zip(check_idx, bit_idx):\n",
    "        factor_graph.set_edge(checks_fnodes[m], bits_vnodes[n])\n",
    "    \n",
    "    # Initialize check factors\n",
    "    for check_fnode in checks_fnodes:\n",
    "        check_fnode.factor = construct_check_factor(check_fnode)\n",
    "    # Initialize prior factors\n",
    "    for prior_fnode, observed_r in zip(priors_fnodes, observations):\n",
    "        prior_fnode.factor = construct_prior_factor(prior_fnode,observed_r,error_rate)\n",
    "    return factor_graph"
   ]
  },
  {
   "cell_type": "code",
   "execution_count": 33,
   "metadata": {},
   "outputs": [],
   "source": [
    "# Testing cell\n",
    "fg = construct_graph_with_H(H)"
   ]
  },
  {
   "cell_type": "markdown",
   "metadata": {},
   "source": [
    "# b) Decoding Test"
   ]
  },
  {
   "cell_type": "code",
   "execution_count": 40,
   "metadata": {
    "collapsed": true
   },
   "outputs": [],
   "source": [
    "# Construct Coding Matrix tG\n",
    "tG = pyldpc.CodingMatrix(H)\n",
    "G  = tG.T"
   ]
  },
  {
   "cell_type": "code",
   "execution_count": 70,
   "metadata": {},
   "outputs": [],
   "source": [
    "# Original message: \n",
    "message= pyldpc.imagesformat.int2bitarray(19931125,128)"
   ]
  },
  {
   "cell_type": "code",
   "execution_count": 92,
   "metadata": {},
   "outputs": [
    {
     "name": "stdout",
     "output_type": "stream",
     "text": [
      "Original Messages:\n",
      "[0 0 0 0 0 0 0 0 0 0 0 0 0 0 0 0 0 0 0 0 0 0 0 0 0 0 0 0 0 0 0 0 0 0 0 0 0\n",
      " 0 0 0 0 0 0 0 0 0 0 0 0 0 0 0 0 0 0 0 0 0 0 0 0 0 0 0 0 0 0 0 0 0 0 0 0 0\n",
      " 0 0 0 0 0 0 0 0 0 0 0 0 0 0 0 0 0 0 0 0 0 0 0 0 0 0 0 0 0 1 0 0 1 1 0 0 0\n",
      " 0 0 0 0 1 1 1 1 1 1 1 1 1 0 1 0 1]\n",
      "Shape: (128,)\n"
     ]
    }
   ],
   "source": [
    "print('Original Messages:')\n",
    "print(message)\n",
    "print('Shape:', message.shape)"
   ]
  },
  {
   "cell_type": "code",
   "execution_count": 110,
   "metadata": {},
   "outputs": [],
   "source": [
    "# Define binary symmetric channel\n",
    "def binary_symmetric_channel(message, error_rate):\n",
    "    error_bits_idx = np.where(np.random.choice([0,1], p=(1-error_rate,error_rate),size=message.shape)==1)[0] \n",
    "    corrupted = message\n",
    "    corrupted[error_bits_idx] = 1-corrupted[error_bits_idx]\n",
    "    return corrupted"
   ]
  },
  {
   "cell_type": "code",
   "execution_count": 111,
   "metadata": {
    "collapsed": true
   },
   "outputs": [],
   "source": [
    "# Encode original message with some error rate\n",
    "error_rate = 0.05 # symmetric noise error\n",
    "codeword = binary_symmetric_channel(message, error_rate)"
   ]
  },
  {
   "cell_type": "code",
   "execution_count": null,
   "metadata": {
    "collapsed": true
   },
   "outputs": [],
   "source": []
  }
 ],
 "metadata": {
  "kernelspec": {
   "display_name": "Python 3",
   "language": "python",
   "name": "python3"
  },
  "language_info": {
   "codemirror_mode": {
    "name": "ipython",
    "version": 3
   },
   "file_extension": ".py",
   "mimetype": "text/x-python",
   "name": "python",
   "nbconvert_exporter": "python",
   "pygments_lexer": "ipython3",
   "version": "3.6.2"
  }
 },
 "nbformat": 4,
 "nbformat_minor": 2
}
